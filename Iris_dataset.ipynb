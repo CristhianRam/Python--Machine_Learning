{
  "nbformat": 4,
  "nbformat_minor": 0,
  "metadata": {
    "colab": {
      "provenance": []
    },
    "kernelspec": {
      "name": "python3",
      "display_name": "Python 3"
    },
    "language_info": {
      "name": "python"
    }
  },
  "cells": [
    {
      "cell_type": "markdown",
      "source": [
        "Iris dataset in scikit-learn\n",
        "\n",
        "https://scikit-learn.org/stable/auto_examples/datasets/plot_iris_dataset.html"
      ],
      "metadata": {
        "id": "N1mRGBYl0aue"
      }
    },
    {
      "cell_type": "code",
      "execution_count": null,
      "metadata": {
        "id": "Y6sUx3Uz0Ma4"
      },
      "outputs": [],
      "source": [
        "from tensorflow.keras.utils import to_categorical\n",
        "from sklearn import datasets\n",
        "import matplotlib.pyplot as plt\n",
        "from random import random"
      ]
    },
    {
      "cell_type": "code",
      "source": [
        "iris = datasets.load_iris()\n",
        "X = iris.data\n",
        "target = iris.target\n",
        "Y = to_categorical(target, dtype =\"uint8\")"
      ],
      "metadata": {
        "id": "2iayO85u0PO-"
      },
      "execution_count": null,
      "outputs": []
    },
    {
      "cell_type": "markdown",
      "source": [
        "# Regression"
      ],
      "metadata": {
        "id": "mcauSO4SA4Mn"
      }
    },
    {
      "cell_type": "markdown",
      "source": [
        "## Función común"
      ],
      "metadata": {
        "id": "zE6VJEoN98CW"
      }
    },
    {
      "cell_type": "code",
      "source": [
        "def eval_funct(w, x, y, z):\n",
        "  h = w[0] + w[1]*x +w[2]*y + w[3]*z\n",
        "  return h"
      ],
      "metadata": {
        "id": "6SM0t_lE9u6n"
      },
      "execution_count": null,
      "outputs": []
    },
    {
      "cell_type": "markdown",
      "source": [
        "## Dividir Variables"
      ],
      "metadata": {
        "id": "Mm6oT2wp-WyY"
      }
    },
    {
      "cell_type": "code",
      "source": [
        "n = X.shape[0]\n",
        "X_0 = [X[i][0] for i in range(n)]\n",
        "X_1 = [X[i][1] for i in range(n)]\n",
        "X_2 = [X[i][2] for i in range(n)]\n",
        "X_3 = [X[i][3] for i in range(n)]"
      ],
      "metadata": {
        "id": "o7t5hzEk-fme"
      },
      "execution_count": null,
      "outputs": []
    },
    {
      "cell_type": "markdown",
      "source": [
        "### Predecir primera (X_0)"
      ],
      "metadata": {
        "id": "JeBRd47SBekT"
      }
    },
    {
      "cell_type": "code",
      "source": [
        "NUM_PUNTOS = n\n",
        "alpha = 0.015\n",
        "epochs = 150\n",
        "\n",
        "w = list()\n",
        "for _ in range(4):\n",
        "  w.append(random())"
      ],
      "metadata": {
        "id": "ouBRu8nmBc10"
      },
      "execution_count": null,
      "outputs": []
    },
    {
      "cell_type": "code",
      "source": [
        "H = list()\n",
        "error = []\n",
        "for e in range(epochs):\n",
        "  suma = 0\n",
        "  for i in range(NUM_PUNTOS):\n",
        "    x_v = [1, X_1[i], X_2[i], X_3[i]]\n",
        "    h = eval_funct(w, X_1[i], X_2[i], X_3[i])\n",
        "    for j in range(4):\n",
        "      w[j] = w[j] + alpha * (X_0[i] - h )* (x_v[j])\n",
        "\n",
        "  for i in range(NUM_PUNTOS):\n",
        "    suma += (eval_funct(w, X_1[i], X_2[i], X_3[i])- X_0[i])**2\n",
        "\n",
        "  error.append((1/2)*suma)"
      ],
      "metadata": {
        "id": "Eq8NOKsJCHyu"
      },
      "execution_count": null,
      "outputs": []
    },
    {
      "cell_type": "code",
      "source": [
        "# IMPRIMIR FUNCION DE ERROR:\n",
        "x_error = [i for i in range(epochs)]\n",
        "plt.plot(x_error, error, 'b')\n",
        "plt.show()"
      ],
      "metadata": {
        "colab": {
          "base_uri": "https://localhost:8080/",
          "height": 430
        },
        "id": "wgUlG5hwDnx7",
        "outputId": "443b2546-04bb-4806-bc42-432d243a4ce3"
      },
      "execution_count": null,
      "outputs": [
        {
          "output_type": "display_data",
          "data": {
            "text/plain": [
              "<Figure size 640x480 with 1 Axes>"
            ],
            "image/png": "[encoded data removed]"
          },
          "metadata": {}
        }
      ]
    },
    {
      "cell_type": "markdown",
      "source": [
        "### Predecir segunda (X_1)"
      ],
      "metadata": {
        "id": "-fCeV6g5EePb"
      }
    },
    {
      "cell_type": "code",
      "source": [
        "NUM_PUNTOS = n\n",
        "alpha = 0.00175\n",
        "epochs = 80\n",
        "\n",
        "w = list()\n",
        "for _ in range(4):\n",
        "  w.append(random())"
      ],
      "metadata": {
        "id": "mn3b9-JcEizT"
      },
      "execution_count": null,
      "outputs": []
    },
    {
      "cell_type": "code",
      "source": [
        "H = list()\n",
        "error = []\n",
        "for e in range(epochs):\n",
        "  suma = 0\n",
        "  for i in range(NUM_PUNTOS):\n",
        "    x_v = [1, X_0[i], X_2[i], X_3[i]]\n",
        "    h = eval_funct(w, X_0[i], X_2[i], X_3[i])\n",
        "    for j in range(4):\n",
        "      w[j] = w[j] + alpha * (X_1[i] - h )* (x_v[j])\n",
        "\n",
        "  for i in range(NUM_PUNTOS):\n",
        "    suma += (eval_funct(w, X_0[i], X_2[i], X_3[i])- X_1[i])**2\n",
        "\n",
        "  error.append((1/2)*suma)"
      ],
      "metadata": {
        "id": "8QMB6AyTIkn0"
      },
      "execution_count": null,
      "outputs": []
    },
    {
      "cell_type": "code",
      "source": [
        "# IMPRIMIR FUNCION DE ERROR:\n",
        "x_error = [i for i in range(epochs)]\n",
        "plt.plot(x_error, error, 'b')\n",
        "plt.show()"
      ],
      "metadata": {
        "colab": {
          "base_uri": "https://localhost:8080/",
          "height": 430
        },
        "id": "HYYS60inIqQD",
        "outputId": "524def35-0401-4552-9dd6-8a9707a4b3d7"
      },
      "execution_count": null,
      "outputs": [
        {
          "output_type": "display_data",
          "data": {
            "text/plain": [
              "<Figure size 640x480 with 1 Axes>"
            ],
            "image/png": "[encoded data removed]"
          },
          "metadata": {}
        }
      ]
    },
    {
      "cell_type": "markdown",
      "source": [
        "### Predecir tercera variable (X_2)"
      ],
      "metadata": {
        "id": "oRsY59W-99nx"
      }
    },
    {
      "cell_type": "code",
      "source": [
        "NUM_PUNTOS = n\n",
        "alpha = 0.031\n",
        "epochs = 80\n",
        "\n",
        "w = list()\n",
        "for _ in range(4):\n",
        "  w.append(random())"
      ],
      "metadata": {
        "id": "tswwh0-4-Cw4"
      },
      "execution_count": null,
      "outputs": []
    },
    {
      "cell_type": "code",
      "source": [
        "H = list()\n",
        "error = []\n",
        "for e in range(epochs):\n",
        "  suma = 0\n",
        "  for i in range(NUM_PUNTOS):\n",
        "    x_v = [1, X_0[i], X_1[i], X_3[i]]\n",
        "    h = eval_funct(w, X_0[i], X_1[i], X_3[i])\n",
        "    for j in range(4):\n",
        "      w[j] = w[j] + alpha * (X_2[i] - h )* (x_v[j])\n",
        "\n",
        "  for i in range(NUM_PUNTOS):\n",
        "    suma += (eval_funct(w, X_0[i], X_1[i], X_3[i])- X_2[i])**2\n",
        "\n",
        "  error.append((1/2)*suma)"
      ],
      "metadata": {
        "id": "RYMkj8lr-IzX"
      },
      "execution_count": null,
      "outputs": []
    },
    {
      "cell_type": "code",
      "source": [
        "# IMPRIMIR FUNCION DE ERROR:\n",
        "x_error = [i for i in range(epochs)]\n",
        "plt.plot(x_error, error, 'b')\n",
        "plt.show()"
      ],
      "metadata": {
        "colab": {
          "base_uri": "https://localhost:8080/",
          "height": 430
        },
        "id": "CSwdVjjz-KCg",
        "outputId": "9c92e93a-846c-4e84-f8c7-11242d18ec5f"
      },
      "execution_count": null,
      "outputs": [
        {
          "output_type": "display_data",
          "data": {
            "text/plain": [
              "<Figure size 640x480 with 1 Axes>"
            ],
            "image/png": "[encoded data removed]"
          },
          "metadata": {}
        }
      ]
    },
    {
      "cell_type": "code",
      "source": [
        "### Predecir cuarta variable (X_3)"
      ],
      "metadata": {
        "id": "COHwNZKr_3Xl"
      },
      "execution_count": null,
      "outputs": []
    },
    {
      "cell_type": "code",
      "source": [
        "NUM_PUNTOS = n\n",
        "alpha = 0.001\n",
        "epochs = 50\n",
        "\n",
        "w = list()\n",
        "for _ in range(4):\n",
        "  w.append(random())"
      ],
      "metadata": {
        "id": "tH2wT1Wl_57t"
      },
      "execution_count": null,
      "outputs": []
    },
    {
      "cell_type": "code",
      "source": [
        "H = list()\n",
        "error = []\n",
        "for e in range(epochs):\n",
        "  suma = 0\n",
        "  for i in range(NUM_PUNTOS):\n",
        "    x_v = [1, X_0[i], X_1[i], X_2[i]]\n",
        "    h = eval_funct(w, X_0[i], X_1[i], X_2[i])\n",
        "    for j in range(4):\n",
        "      w[j] = w[j] + alpha * (X_3[i] - h )* (x_v[j])\n",
        "\n",
        "  for i in range(NUM_PUNTOS):\n",
        "    suma += (eval_funct(w, X_0[i], X_1[i], X_2[i])- X_3[i])**2\n",
        "\n",
        "  error.append((1/2)*suma)"
      ],
      "metadata": {
        "id": "DIegQjrB_6Ul"
      },
      "execution_count": null,
      "outputs": []
    },
    {
      "cell_type": "code",
      "source": [
        "# IMPRIMIR FUNCION DE ERROR:\n",
        "x_error = [i for i in range(epochs)]\n",
        "plt.plot(x_error, error, 'b')\n",
        "plt.show()"
      ],
      "metadata": {
        "colab": {
          "base_uri": "https://localhost:8080/",
          "height": 430
        },
        "id": "cI3Fk9rC_6k9",
        "outputId": "80620560-ded0-4e13-fa21-ef40add8f8eb"
      },
      "execution_count": null,
      "outputs": [
        {
          "output_type": "display_data",
          "data": {
            "text/plain": [
              "<Figure size 640x480 with 1 Axes>"
            ],
            "image/png": "[encoded data removed]"
          },
          "metadata": {}
        }
      ]
    },
    {
      "cell_type": "markdown",
      "source": [
        "# Clasificación binaria"
      ],
      "metadata": {
        "id": "jn7lcncYAv2Q"
      }
    },
    {
      "cell_type": "markdown",
      "source": [
        "## Setosa y Versicolour"
      ],
      "metadata": {
        "id": "F-uM7cQuCEVz"
      }
    },
    {
      "cell_type": "code",
      "source": [
        "import numpy as np\n",
        "import pandas as pd"
      ],
      "metadata": {
        "id": "M7wrpmq4EK_4"
      },
      "execution_count": null,
      "outputs": []
    },
    {
      "cell_type": "code",
      "source": [
        "def eval_funct(w, x, y):\n",
        "  h = w[0] + w[1]*x +w[2]*y\n",
        "  return h"
      ],
      "metadata": {
        "id": "5u1cElyCA06_"
      },
      "execution_count": null,
      "outputs": []
    },
    {
      "cell_type": "code",
      "source": [
        "def logistic_funct(h):\n",
        "  g = 1/(1+np.exp(-h))\n",
        "  return g"
      ],
      "metadata": {
        "id": "UyDfHbD2D-Px"
      },
      "execution_count": null,
      "outputs": []
    },
    {
      "cell_type": "code",
      "source": [
        "x = [X[i][0] for i in range(n) if target[i]!=2]\n",
        "y = [X[i][1] for i in range(n) if target[i]!=2]\n",
        "t = [target[i] for i in range(n) if target[i]!=2]\n",
        "x_versicolour = [X[i][0] for i in range(n) if target[i]==1]\n",
        "x_setosa = [X[i][0] for i in range(n) if target[i]==0]\n",
        "y_versicolour = [X[i][1] for i in range(n) if target[i]==1]\n",
        "y_setosa = [X[i][1] for i in range(n) if target[i]==0]"
      ],
      "metadata": {
        "id": "XSL62j3tCoZp"
      },
      "execution_count": null,
      "outputs": []
    },
    {
      "cell_type": "code",
      "source": [
        "NUM_PUNTOS = len(x)\n",
        "alpha = 0.3\n",
        "epochs = 10000\n",
        "\n",
        "w = list()\n",
        "for _ in range(3):\n",
        "  w.append(random()-0.5)"
      ],
      "metadata": {
        "id": "2ACfukmWD54w"
      },
      "execution_count": null,
      "outputs": []
    },
    {
      "cell_type": "code",
      "source": [
        "for e in range(epochs):\n",
        "  for i in range(NUM_PUNTOS):\n",
        "    x_v = [1, x[i], y[i]]\n",
        "    h = eval_funct(w, x[i], y[i])\n",
        "    g = logistic_funct(h)\n",
        "    for j in range(3):\n",
        "      w[j] = w[j] + alpha * (t[i] - g )* (x_v[j])"
      ],
      "metadata": {
        "id": "iAcTDSGqD77b"
      },
      "execution_count": null,
      "outputs": []
    },
    {
      "cell_type": "code",
      "source": [
        "y_model = [-(w[0]+w[1]*element)/w[2] for element in x]\n",
        "\n",
        "plt.plot(x, y_model, 'r-')\n",
        "plt.xlabel(\"Sepal Length\")\n",
        "plt.ylabel(\"Sepal Width\")\n",
        "plt.plot(x_versicolour, y_versicolour, \"go\", label = \"Versicolour\")\n",
        "plt.plot(x_setosa, y_setosa, \"mo\", label = \"Setosa\")\n",
        "plt.legend(loc = \"best\")\n",
        "plt.show()"
      ],
      "metadata": {
        "colab": {
          "base_uri": "https://localhost:8080/",
          "height": 449
        },
        "id": "vMCLlNEyEThS",
        "outputId": "3b4a87b7-78b7-4498-c142-6b7ecd6cbc66"
      },
      "execution_count": null,
      "outputs": [
        {
          "output_type": "display_data",
          "data": {
            "text/plain": [
              "<Figure size 640x480 with 1 Axes>"
            ],
            "image/png": "[encoded data removed]"
          },
          "metadata": {}
        }
      ]
    }
  ]
}